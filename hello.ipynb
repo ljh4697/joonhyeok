{
  "nbformat": 4,
  "nbformat_minor": 0,
  "metadata": {
    "colab": {
      "name": "hello.ipynb",
      "provenance": [],
      "collapsed_sections": [],
      "authorship_tag": "ABX9TyPVWdY1Qi6veTb8GoF2rZVV",
      "include_colab_link": true
    },
    "kernelspec": {
      "name": "python3",
      "display_name": "Python 3"
    },
    "accelerator": "GPU"
  },
  "cells": [
    {
      "cell_type": "markdown",
      "metadata": {
        "id": "view-in-github",
        "colab_type": "text"
      },
      "source": [
        "<a href=\"https://colab.research.google.com/github/ljh4697/joonhyeok/blob/master/hello.ipynb\" target=\"_parent\"><img src=\"https://colab.research.google.com/assets/colab-badge.svg\" alt=\"Open In Colab\"/></a>"
      ]
    },
    {
      "cell_type": "code",
      "metadata": {
        "id": "ToE_21q8VXPu",
        "colab_type": "code",
        "colab": {}
      },
      "source": [
        "# expert 버젼\n",
        "\n",
        "\n",
        "import tensorflow as tf\n",
        "from tensorflow.keras import layers\n",
        "from tensorflow.keras import datasets\n",
        "\n",
        "input_shape = (28, 28, 1)\n",
        "num_classes = 10\n",
        "\n",
        "inputs = layers.Input(input_shape, dtype=tf.float32)\n",
        "net = layers.Conv2D(32, (32, 32), padding='SAME')(inputs)\n",
        "net = layers.Activation('relu')(net)\n",
        "net = layers.Conv2D(32, (32, 32), padding='SAME')(net)\n",
        "net = layers.Activation('relu')(net)\n",
        "net = layers.MaxPooling2D(pool_size=(2, 2))(net)\n",
        "net = layers.Dropout(0.5)(net)\n",
        "\n",
        "net = layers.Conv2D(64, (32, 32), padding='SAME')(inputs)\n",
        "net = layers.Activation('relu')(net)\n",
        "net = layers.Conv2D(64, (32, 32), padding='SAME')(net)\n",
        "net = layers.Activation('relu')(net)\n",
        "net = layers.MaxPooling2D(pool_size=(2, 2))(net)\n",
        "net = layers.Dropout(0.5)(net)\n",
        "\n",
        "net = layers.Flatten()(net)\n",
        "net = layers.Dense(512)(net)\n",
        "net = layers.Activation('relu')(net)\n",
        "net = layers.Dense(num_classes)(net)\n",
        "net = layers.Activation('softmax')(net)\n",
        "\n",
        "model = tf.keras.Model(inputs=inputs, outputs=net, name='Basic_CNN')\n",
        "\n",
        "mnist = tf.keras.datasets.mnist\n",
        "    # load data from Mnist\n",
        "(x_train, y_train), (x_test, y_test) = mnist.load_data()\n",
        "\n",
        "    #channel 차원 추가\n",
        "x_train = x_train[..., tf.newaxis]\n",
        "x_test = x_test[..., tf.newaxis]\n",
        "\n",
        "    #data Normalization\n",
        "x_train, x_test = x_train / 255.0 , x_test / 255.0\n",
        "\n",
        "train_ds = tf.data.Dataset.from_tensor_slices((x_train, y_train))\n",
        "train_ds = train_ds.shuffle(1000)  # 버퍼 사이즈 1000\n",
        "train_ds = train_ds.batch(32)\n",
        "\n",
        "test_ds = tf.data.Dataset.from_tensor_slices((x_test, y_test))\n",
        "# 여기서는 굳이 셔플안해도됨\n",
        "test_ds = test_ds.batch(32)\n",
        "\n",
        "import matplotlib.pyplot as plt\n",
        "# image, label = next(iter(train_ds))\n",
        "# print(image.shape, label.shape)\n",
        "\n",
        "# plt.title(label[0])\n",
        "# plt.imshow(image[0, :, :, 0] , 'gray')\n",
        "# plt.show()\n",
        "# model.compile(optimizer='adam', loss='sparse_categorical_crossentropy')\n",
        "# model.fit(train_ds, epochs=10)\n"
      ],
      "execution_count": 147,
      "outputs": []
    },
    {
      "cell_type": "code",
      "metadata": {
        "id": "I6F6EMbMk2R5",
        "colab_type": "code",
        "colab": {}
      },
      "source": [
        " # expert 한 버젼\n",
        " loss_object = tf.keras.losses.SparseCategoricalCrossentropy()\n",
        "\n",
        " optimizer = tf.keras.optimizers.Adam()\n"
      ],
      "execution_count": 148,
      "outputs": []
    },
    {
      "cell_type": "code",
      "metadata": {
        "id": "ESxaVPrVlIRh",
        "colab_type": "code",
        "colab": {}
      },
      "source": [
        "train_loss = tf.keras.metrics.Mean(name='train_loss')\n",
        "# 에폭마다 loss 의 평균을 재서 보여줌\n",
        "train_accuracy = tf.keras.metrics.SparseCategoricalAccuracy(name='train_accuracy')\n",
        "\n",
        "test_loss = tf.keras.metrics.Mean(name='test_loss')\n",
        "test_accuracy = tf.keras.metrics.SparseCategoricalAccuracy(name='test_accuracy')\n"
      ],
      "execution_count": 149,
      "outputs": []
    },
    {
      "cell_type": "markdown",
      "metadata": {
        "id": "cQgM22gelsw2",
        "colab_type": "text"
      },
      "source": [
        "# **Trainning**\n",
        "@ tf.function - 기존 session 열었던 것처럼 바로 작동 안하고 , 그래프만 만들고 학습이 시작되면 돌아가도록 함"
      ]
    },
    {
      "cell_type": "code",
      "metadata": {
        "id": "PADUds3hocEc",
        "colab_type": "code",
        "colab": {}
      },
      "source": [
        "@tf.function\n",
        "def train_step(images, labels):\n",
        "  with tf.GradientTape() as tape:\n",
        "    predictions = model(images)\n",
        "    loss = loss_object(labels, predictions)\n",
        "  gradients = tape.gradient(loss, model.trainable_variables)\n",
        "  optimizer.apply_gradients(zip(gradients, model.trainable_variables))\n",
        "\n",
        "  train_loss(loss)\n",
        "  train_accuracy(labels, predictions)"
      ],
      "execution_count": 150,
      "outputs": []
    },
    {
      "cell_type": "code",
      "metadata": {
        "id": "zynIPy-5qcgk",
        "colab_type": "code",
        "colab": {}
      },
      "source": [
        "@tf.function\n",
        "def test_step(images, labels):\n",
        "  predictions = model(images)\n",
        "  t_loss = loss_object(labels, predictions)\n",
        "  \n",
        "  test_loss(t_loss)\n",
        "  test_accuracy(labels, predictions)"
      ],
      "execution_count": 151,
      "outputs": []
    },
    {
      "cell_type": "code",
      "metadata": {
        "id": "S_6-mMyFnX3J",
        "colab_type": "code",
        "colab": {
          "base_uri": "https://localhost:8080/",
          "height": 109
        },
        "outputId": "0b0664c8-dd8a-42f5-fb99-33f2ca74ea87"
      },
      "source": [
        "for epoch in range(2):\n",
        "  print('start Trainning')\n",
        "  for lmages, labels in train_ds:\n",
        "    train_step(images, labels)\n",
        "\n",
        "  for test_images, test_labels in test_ds:\n",
        "    test_step(test_images, test_labels)\n",
        "  \n",
        "  template = 'Epoch {}, Loss: {}, Accuracy : {}, Test Loss {}, Test Accuracy : {}'\n",
        "  print(template.format(epoch+1,\n",
        "                         train_loss.result(),\n",
        "                         train_accuracy.result()*100,\n",
        "                         test_loss.result(),\n",
        "                         test_accuracy.result()*100))\n"
      ],
      "execution_count": 152,
      "outputs": [
        {
          "output_type": "stream",
          "text": [
            "start Trainning\n",
            "Epoch 1, Loss: 2.3039586544036865, Accuracy : 11.210000038146973, Test Loss 2.3012454509735107, Test Accuracy : 11.350000381469727\n",
            "start Trainning\n",
            "Epoch 2, Loss: 2.3027124404907227, Accuracy : 11.223333358764648, Test Loss 2.301234483718872, Test Accuracy : 11.350000381469727\n"
          ],
          "name": "stdout"
        }
      ]
    },
    {
      "cell_type": "markdown",
      "metadata": {
        "id": "YIQgOzD7oeSi",
        "colab_type": "text"
      },
      "source": [
        "##gfg\n"
      ]
    },
    {
      "cell_type": "code",
      "metadata": {
        "id": "yzWDeR0_ojsq",
        "colab_type": "code",
        "colab": {
          "base_uri": "https://localhost:8080/",
          "height": 172
        },
        "outputId": "82a9e7c6-f104-4dcb-f7b6-a1f531386978"
      },
      "source": [
        "rh"
      ],
      "execution_count": 153,
      "outputs": [
        {
          "output_type": "error",
          "ename": "NameError",
          "evalue": "ignored",
          "traceback": [
            "\u001b[0;31m---------------------------------------------------------------------------\u001b[0m",
            "\u001b[0;31mNameError\u001b[0m                                 Traceback (most recent call last)",
            "\u001b[0;32m<ipython-input-153-da44f808dd01>\u001b[0m in \u001b[0;36m<module>\u001b[0;34m()\u001b[0m\n\u001b[0;32m----> 1\u001b[0;31m \u001b[0mrh\u001b[0m\u001b[0;34m\u001b[0m\u001b[0;34m\u001b[0m\u001b[0m\n\u001b[0m",
            "\u001b[0;31mNameError\u001b[0m: name 'rh' is not defined"
          ]
        }
      ]
    }
  ]
}